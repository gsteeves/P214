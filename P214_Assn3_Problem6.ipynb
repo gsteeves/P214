{
 "cells": [
  {
   "cell_type": "code",
   "execution_count": null,
   "metadata": {
    "collapsed": true
   },
   "outputs": [],
   "source": [
    "import numpy as np\n",
    "import matplotlib.pyplot as plt\n",
    "\n",
    "R=1e3\n",
    "cap=0.1e-6\n",
    "\n",
    "def w(f):\n",
    "  return 2*np.pi*f\n",
    "\n",
    "def phase(f):\n",
    "  return np.arctan(-w(f)*R*cap)*180/np.pi\n",
    "\n",
    "xfreq=np.logspace(0,5,30)\n",
    "yfreq=map(phase,xfreq)\n",
    "\n",
    "fco=1/(2*np.pi*R*cap)\n",
    "phaseco=phase(fco)\n",
    "\n",
    "plt.semilogx(xfreq,yfreq,'.',xfreq,yfreq,'r-', fco, phaseco,'*')\n",
    "plt.axis([1,1e5,-92,5])\n",
    "plt.plot((1,1e5),(-45,-45),'g:')\n",
    "plt.plot((fco,fco),(-92,5),'g:')\n",
    "plt.title('Low Pass $RC$ Filter: Phase Response')\n",
    "plt.xlabel('Frequency (Hz)')\n",
    "plt.ylabel('Phase (degrees)')\n",
    "\n",
    "plt.show()"
   ]
  },
  {
   "cell_type": "code",
   "execution_count": null,
   "metadata": {
    "collapsed": true
   },
   "outputs": [],
   "source": []
  }
 ],
 "metadata": {
  "kernelspec": {
   "display_name": "Python [Root]",
   "language": "python",
   "name": "Python [Root]"
  },
  "language_info": {
   "codemirror_mode": {
    "name": "ipython",
    "version": 2
   },
   "file_extension": ".py",
   "mimetype": "text/x-python",
   "name": "python",
   "nbconvert_exporter": "python",
   "pygments_lexer": "ipython2",
   "version": "2.7.12"
  }
 },
 "nbformat": 4,
 "nbformat_minor": 0
}
