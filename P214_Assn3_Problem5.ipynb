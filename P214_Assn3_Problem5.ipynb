{
 "cells": [
  {
   "cell_type": "code",
   "execution_count": null,
   "metadata": {
    "collapsed": true
   },
   "outputs": [],
   "source": [
    "# First we import some useful libraries\n",
    "\n",
    "import numpy as np\n",
    "import matplotlib.pyplot as plt\n",
    "\n",
    "# Here I just insert the values of R and C for our filter\n",
    "\n",
    "R=1.e3\n",
    "cap=0.1e-6\n",
    "\n",
    "# Here I define a function for the angular frequency (based on frequency)\n",
    "\n",
    "def w(f):\n",
    "  return 2*np.pi*f\n",
    "\n",
    "# Here I define a function to calculate the gain of our circuit based on f\n",
    "\n",
    "def gain(f):\n",
    "  return 20*np.log10(1/np.sqrt(1+(w(f)*R*cap)**2))\n",
    "\n",
    "# I use np.logspace to create 30 evenly spaced x-values for the log-graph\n",
    "# Values range from 10^0 to 10^5\n",
    "\n",
    "xfreq=np.logspace(0,5,30)\n",
    "\n",
    "# I put these x-values into the gain(f) function to find the y-values\n",
    "\n",
    "yfreq=gain(xfreq)\n",
    "\n",
    "# Bonus - calculate the cutoff frequency and the associated gain value\n",
    "\n",
    "fco=1/(2*np.pi*R*cap)\n",
    "dbpoint=gain(fco)\n",
    "\n",
    "# Plot on a semilog graph - along with the 3dB point\n",
    "# and labels, etc\n",
    "\n",
    "plt.semilogx(xfreq,yfreq,'b.',xfreq,yfreq,'r-',fco,dbpoint,'*')\n",
    "plt.plot((1,1e5),(-3,-3),'g:')\n",
    "plt.plot((fco,fco),(-40,3),'g:')\n",
    "plt.title('Low Pass $RC$ Filter: Gain')\n",
    "plt.axis([1,1e5,-40,3])\n",
    "plt.xlabel('Frequency (Hz)')\n",
    "plt.ylabel('Gain (dB)')\n",
    "\n",
    "plt.show()"
   ]
  },
  {
   "cell_type": "code",
   "execution_count": null,
   "metadata": {
    "collapsed": true
   },
   "outputs": [],
   "source": []
  }
 ],
 "metadata": {
  "anaconda-cloud": {},
  "kernelspec": {
   "display_name": "Python [Root]",
   "language": "python",
   "name": "Python [Root]"
  },
  "language_info": {
   "codemirror_mode": {
    "name": "ipython",
    "version": 2
   },
   "file_extension": ".py",
   "mimetype": "text/x-python",
   "name": "python",
   "nbconvert_exporter": "python",
   "pygments_lexer": "ipython2",
   "version": "2.7.12"
  }
 },
 "nbformat": 4,
 "nbformat_minor": 0
}
